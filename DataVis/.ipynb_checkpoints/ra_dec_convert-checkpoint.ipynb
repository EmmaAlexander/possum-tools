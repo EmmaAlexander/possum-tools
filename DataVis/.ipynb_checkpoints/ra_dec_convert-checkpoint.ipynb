{
 "cells": [
  {
   "cell_type": "code",
   "execution_count": 7,
   "id": "broadband-saturday",
   "metadata": {},
   "outputs": [
    {
     "name": "stdout",
     "output_type": "stream",
     "text": [
      "<SkyCoord (ICRS): (ra, dec) in deg\n",
      "    [(304.50416667, -55.65944444), (304.75416667, -52.90583333),\n",
      "     (305.74583333, -54.08722222), (306.27083333, -54.06722222),\n",
      "     (306.80833333, -55.31277778), (306.6875    , -55.37444444),\n",
      "     (310.3       , -52.96083333), (310.77916667, -50.98388889),\n",
      "     (311.225     , -53.66388889), (311.47083333, -51.11972222),\n",
      "     (313.01666667, -52.77194444), (312.91666667, -57.07555556),\n",
      "     (314.54166667, -48.63027778), (314.65833333, -57.94361111),\n",
      "     (315.9375    , -49.02972222), (320.59166667, -56.01666667),\n",
      "     (322.11666667, -57.85805556), (322.32916667, -50.88416667),\n",
      "     (322.2625    , -58.01666667), (323.7625    , -52.83861111),\n",
      "     (323.4125    , -53.3025    ), (323.53333333, -53.60305556),\n",
      "     (324.04166667, -55.22777778), (324.23333333, -61.38833333),\n",
      "     (324.875     , -51.39555556), (325.76666667, -61.4675    ),\n",
      "     (326.        , -56.6225    ), (327.1       , -57.23083333),\n",
      "     (326.99166667, -58.3525    ), (327.62083333, -49.06305556),\n",
      "     (327.575     , -62.18472222), (327.87083333, -55.33833333),\n",
      "     (327.74166667, -57.67916667), (328.4       , -50.48166667),\n",
      "     (328.80416667, -59.15083333), (330.1       , -56.17833333),\n",
      "     (330.58333333, -54.88111111)]>\n"
     ]
    },
    {
     "ename": "TypeError",
     "evalue": "_savetxt_dispatcher() missing 1 required positional argument: 'X'",
     "output_type": "error",
     "traceback": [
      "\u001b[0;31m---------------------------------------------------------------------------\u001b[0m",
      "\u001b[0;31mTypeError\u001b[0m                                 Traceback (most recent call last)",
      "\u001b[0;32m<ipython-input-7-544d58744ec1>\u001b[0m in \u001b[0;36m<module>\u001b[0;34m\u001b[0m\n\u001b[1;32m      8\u001b[0m \u001b[0mcoords\u001b[0m\u001b[0;34m=\u001b[0m\u001b[0mSkyCoord\u001b[0m\u001b[0;34m(\u001b[0m\u001b[0mra\u001b[0m\u001b[0;34m,\u001b[0m\u001b[0mdec\u001b[0m\u001b[0;34m)\u001b[0m\u001b[0;34m\u001b[0m\u001b[0;34m\u001b[0m\u001b[0m\n\u001b[1;32m      9\u001b[0m \u001b[0mprint\u001b[0m\u001b[0;34m(\u001b[0m\u001b[0mcoords\u001b[0m\u001b[0;34m)\u001b[0m\u001b[0;34m\u001b[0m\u001b[0;34m\u001b[0m\u001b[0m\n\u001b[0;32m---> 10\u001b[0;31m \u001b[0mnp\u001b[0m\u001b[0;34m.\u001b[0m\u001b[0msavetxt\u001b[0m\u001b[0;34m(\u001b[0m\u001b[0;34m'ra_dec_deg.txt'\u001b[0m\u001b[0;34m)\u001b[0m\u001b[0;34m\u001b[0m\u001b[0;34m\u001b[0m\u001b[0m\n\u001b[0m",
      "\u001b[0;32m<__array_function__ internals>\u001b[0m in \u001b[0;36msavetxt\u001b[0;34m(*args, **kwargs)\u001b[0m\n",
      "\u001b[0;31mTypeError\u001b[0m: _savetxt_dispatcher() missing 1 required positional argument: 'X'"
     ]
    }
   ],
   "source": [
    "from astropy import units as u\n",
    "from astropy.coordinates import SkyCoord\n",
    "import numpy as np\n",
    "\n",
    "sources=np.loadtxt('ra_dec_file.txt',dtype='str')\n",
    "ra=sources[:,0]\n",
    "dec=sources[:,1]\n",
    "coords=SkyCoord(ra,dec)\n",
    "print(coords)\n",
    "np.savetxt(coords,'ra_dec_deg.txt')"
   ]
  },
  {
   "cell_type": "code",
   "execution_count": null,
   "id": "decent-canon",
   "metadata": {},
   "outputs": [],
   "source": []
  }
 ],
 "metadata": {
  "kernelspec": {
   "display_name": "Python 3",
   "language": "python",
   "name": "python3"
  },
  "language_info": {
   "codemirror_mode": {
    "name": "ipython",
    "version": 3
   },
   "file_extension": ".py",
   "mimetype": "text/x-python",
   "name": "python",
   "nbconvert_exporter": "python",
   "pygments_lexer": "ipython3",
   "version": "3.9.1"
  }
 },
 "nbformat": 4,
 "nbformat_minor": 5
}
